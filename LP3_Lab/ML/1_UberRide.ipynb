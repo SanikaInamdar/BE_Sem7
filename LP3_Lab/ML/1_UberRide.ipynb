{
 "cells": [
  {
   "cell_type": "code",
   "execution_count": 1,
   "metadata": {},
   "outputs": [
    {
     "ename": "ModuleNotFoundError",
     "evalue": "No module named 'seaborn'",
     "output_type": "error",
     "traceback": [
      "\u001b[0;31m---------------------------------------------------------------------------\u001b[0m",
      "\u001b[0;31mModuleNotFoundError\u001b[0m                       Traceback (most recent call last)",
      "\u001b[1;32m/Users/sanikainamdar/Desktop/LP3_Lab/ML/1_UberRide.ipynb Cell 1\u001b[0m line \u001b[0;36m3\n\u001b[1;32m      <a href='vscode-notebook-cell:/Users/sanikainamdar/Desktop/LP3_Lab/ML/1_UberRide.ipynb#W0sZmlsZQ%3D%3D?line=0'>1</a>\u001b[0m \u001b[39mimport\u001b[39;00m \u001b[39mpandas\u001b[39;00m \u001b[39mas\u001b[39;00m \u001b[39mpd\u001b[39;00m\n\u001b[1;32m      <a href='vscode-notebook-cell:/Users/sanikainamdar/Desktop/LP3_Lab/ML/1_UberRide.ipynb#W0sZmlsZQ%3D%3D?line=1'>2</a>\u001b[0m \u001b[39mimport\u001b[39;00m \u001b[39mnumpy\u001b[39;00m \u001b[39mas\u001b[39;00m \u001b[39mnp\u001b[39;00m\n\u001b[0;32m----> <a href='vscode-notebook-cell:/Users/sanikainamdar/Desktop/LP3_Lab/ML/1_UberRide.ipynb#W0sZmlsZQ%3D%3D?line=2'>3</a>\u001b[0m \u001b[39mimport\u001b[39;00m \u001b[39mseaborn\u001b[39;00m \u001b[39mas\u001b[39;00m \u001b[39msns\u001b[39;00m\n\u001b[1;32m      <a href='vscode-notebook-cell:/Users/sanikainamdar/Desktop/LP3_Lab/ML/1_UberRide.ipynb#W0sZmlsZQ%3D%3D?line=3'>4</a>\u001b[0m \u001b[39mfrom\u001b[39;00m \u001b[39msklearn\u001b[39;00m\u001b[39m.\u001b[39;00m\u001b[39mmodel_selection\u001b[39;00m \u001b[39mimport\u001b[39;00m train_test_split\n\u001b[1;32m      <a href='vscode-notebook-cell:/Users/sanikainamdar/Desktop/LP3_Lab/ML/1_UberRide.ipynb#W0sZmlsZQ%3D%3D?line=4'>5</a>\u001b[0m \u001b[39mfrom\u001b[39;00m \u001b[39msklearn\u001b[39;00m\u001b[39m.\u001b[39;00m\u001b[39mlinear_model\u001b[39;00m \u001b[39mimport\u001b[39;00m LinearRegression\n",
      "\u001b[0;31mModuleNotFoundError\u001b[0m: No module named 'seaborn'"
     ]
    }
   ],
   "source": [
    "import pandas as pd\n",
    "import numpy as np\n",
    "import seaborn as sns\n",
    "from sklearn.model_selection import train_test_split\n",
    "from sklearn.linear_model import LinearRegression\n",
    "from sklearn.ensemble import RandomForestRegressor\n",
    "from sklearn.metrics import r2_score, mean_squared_error\n",
    "# Import necessary libraries\n",
    "import matplotlib.pyplot as plt\n",
    "\n",
    "# Load the dataset\n",
    "df = pd.read_csv('uber-rides-dataset.csv')\n",
    "\n",
    "# Pre-processing the dataset\n",
    "# Drop the unnecessary columns\n",
    "df.drop(['Unnamed: 0', 'Time'], axis=1, inplace=True)\n",
    "\n",
    "# Convert the datetime column to datetime format\n",
    "df['Date/Time'] = pd.to_datetime(df['Date/Time'])\n",
    "\n",
    "# Extract the day of the week, hour, and month from the datetime column\n",
    "df['DayOfWeek'] = df['Date/Time'].dt.dayofweek\n",
    "df['Hour'] = df['Date/Time'].dt.hour\n",
    "df['Month'] = df['Date/Time'].dt.month\n",
    "\n",
    "# Identify outliers\n",
    "# Plot the boxplot to identify the outliers\n",
    "sns.boxplot(x=df['Price'])\n",
    "plt.show()\n",
    "\n",
    "# Remove the outliers\n",
    "df = df[df['Price'] < 100]\n",
    "\n",
    "# Check the correlation\n",
    "corr = df.corr()\n",
    "sns.heatmap(corr, annot=True)\n",
    "plt.show()\n",
    "\n",
    "# Implement linear regression and random forest regression models\n",
    "# Split the dataset into training and testing sets\n",
    "X = df.drop(['Price', 'Date/Time'], axis=1)\n",
    "y = df['Price']\n",
    "X_train, X_test, y_train, y_test = train_test_split(X, y, test_size=0.2, random_state=42)\n",
    "\n",
    "# Linear Regression Model\n",
    "lr_model = LinearRegression()\n",
    "lr_model.fit(X_train, y_train)\n",
    "lr_pred = lr_model.predict(X_test)\n",
    "\n",
    "# Random Forest Regression Model\n",
    "rf_model = RandomForestRegressor(n_estimators=100, random_state=42)\n",
    "rf_model.fit(X_train, y_train)\n",
    "rf_pred = rf_model.predict(X_test)\n",
    "\n",
    "# Evaluate the models and compare their respective scores like R2, RMSE, etc.\n",
    "# R2 Score\n",
    "lr_r2 = r2_score(y_test, lr_pred)\n",
    "rf_r2 = r2_score(y_test, rf_pred)\n",
    "print(\"Linear Regression R2 Score: \", lr_r2)\n",
    "print(\"Random Forest Regression R2 Score: \", rf_r2)\n",
    "\n",
    "# RMSE Score\n",
    "lr_rmse = np.sqrt(mean_squared_error(y_test, lr_pred))\n",
    "rf_rmse = np.sqrt(mean_squared_error(y_test, rf_pred))\n",
    "print(\"Linear Regression RMSE Score: \", lr_rmse)\n",
    "print(\"Random Forest Regression RMSE Score: \", rf_rmse)\n"
   ]
  }
 ],
 "metadata": {
  "kernelspec": {
   "display_name": "Python 3",
   "language": "python",
   "name": "python3"
  },
  "language_info": {
   "codemirror_mode": {
    "name": "ipython",
    "version": 3
   },
   "file_extension": ".py",
   "mimetype": "text/x-python",
   "name": "python",
   "nbconvert_exporter": "python",
   "pygments_lexer": "ipython3",
   "version": "3.9.6"
  }
 },
 "nbformat": 4,
 "nbformat_minor": 2
}
