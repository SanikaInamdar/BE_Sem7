{
 "cells": [
  {
   "cell_type": "code",
   "execution_count": null,
   "metadata": {},
   "outputs": [],
   "source": [
    "import pandas as pd\n",
    "from sklearn.model_selection import train_test_split\n",
    "from sklearn.feature_extraction.text import TfidfVectorizer\n",
    "from sklearn.neighbors import KNeighborsClassifier\n",
    "from sklearn.svm import SVC\n",
    "from sklearn.metrics import accuracy_score\n",
    "\n",
    "# Load the dataset\n",
    "df = pd.read_csv('emails.csv')\n",
    "\n",
    "# Preprocess the dataset\n",
    "df = df.drop(['Unnamed: 0', 'filename'], axis=1)\n",
    "df['text'] = df['text'].str.replace('\\n', ' ')\n",
    "df['text'] = df['text'].str.replace('\\t', ' ')\n",
    "df['text'] = df['text'].str.replace('\\r', ' ')\n",
    "df['text'] = df['text'].str.replace('[^a-zA-Z0-9\\s]', '')\n",
    "df['text'] = df['text'].str.lower()\n",
    "\n",
    "# Split the dataset into training and testing sets\n",
    "X_train, X_test, y_train, y_test = train_test_split(df['text'], df['spam'], test_size=0.2, random_state=42)\n",
    "\n",
    "# Vectorize the text data using TF-IDF vectorization\n",
    "vectorizer = TfidfVectorizer()\n",
    "X_train = vectorizer.fit_transform(X_train)\n",
    "X_test = vectorizer.transform(X_test)\n",
    "\n",
    "# Train a K-Nearest Neighbors model on the training set\n",
    "knn = KNeighborsClassifier()\n",
    "knn.fit(X_train, y_train)\n",
    "\n",
    "# Evaluate the K-Nearest Neighbors model on the testing set\n",
    "y_pred_knn = knn.predict(X_test)\n",
    "accuracy_knn = accuracy_score(y_test, y_pred_knn)\n",
    "print('Accuracy of K-Nearest Neighbors:', accuracy_knn)\n",
    "\n",
    "# Train a Support Vector Machine model on the training set\n",
    "svm = SVC()\n",
    "svm.fit(X_train, y_train)\n",
    "\n",
    "# Evaluate the Support Vector Machine model on the testing set\n",
    "y_pred_svm = svm.predict(X_test)\n",
    "accuracy_svm = accuracy_score(y_test, y_pred_svm)\n",
    "print('Accuracy of Support Vector Machine:', accuracy_svm)\n"
   ]
  }
 ],
 "metadata": {
  "language_info": {
   "name": "python"
  }
 },
 "nbformat": 4,
 "nbformat_minor": 2
}
